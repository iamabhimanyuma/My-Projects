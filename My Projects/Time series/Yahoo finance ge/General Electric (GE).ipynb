{
 "cells": [
  {
   "cell_type": "code",
   "execution_count": 48,
   "metadata": {},
   "outputs": [],
   "source": [
    "import numpy as np\n",
    "import pandas as pd\n",
    "import seaborn as sns\n",
    "import matplotlib.pyplot as plt\n",
    "%matplotlib inline\n",
    "from keras.models import Sequential\n",
    "from keras.layers import LSTM, Dense, Dropout\n",
    "from sklearn.preprocessing import StandardScaler\n"
   ]
  },
  {
   "cell_type": "code",
   "execution_count": 49,
   "metadata": {},
   "outputs": [],
   "source": [
    "df=pd.read_csv('GE.csv')"
   ]
  },
  {
   "cell_type": "code",
   "execution_count": 65,
   "metadata": {},
   "outputs": [
    {
     "data": {
      "text/html": [
       "<div>\n",
       "<style scoped>\n",
       "    .dataframe tbody tr th:only-of-type {\n",
       "        vertical-align: middle;\n",
       "    }\n",
       "\n",
       "    .dataframe tbody tr th {\n",
       "        vertical-align: top;\n",
       "    }\n",
       "\n",
       "    .dataframe thead th {\n",
       "        text-align: right;\n",
       "    }\n",
       "</style>\n",
       "<table border=\"1\" class=\"dataframe\">\n",
       "  <thead>\n",
       "    <tr style=\"text-align: right;\">\n",
       "      <th></th>\n",
       "      <th>Date</th>\n",
       "      <th>Open</th>\n",
       "      <th>High</th>\n",
       "      <th>Low</th>\n",
       "      <th>Close</th>\n",
       "      <th>Adj Close</th>\n",
       "      <th>Volume</th>\n",
       "    </tr>\n",
       "  </thead>\n",
       "  <tbody>\n",
       "    <tr>\n",
       "      <th>0</th>\n",
       "      <td>2021-06-14</td>\n",
       "      <td>110.239998</td>\n",
       "      <td>110.639999</td>\n",
       "      <td>107.279999</td>\n",
       "      <td>107.760002</td>\n",
       "      <td>107.403793</td>\n",
       "      <td>5678225</td>\n",
       "    </tr>\n",
       "    <tr>\n",
       "      <th>1</th>\n",
       "      <td>2021-06-15</td>\n",
       "      <td>107.599998</td>\n",
       "      <td>108.559998</td>\n",
       "      <td>106.480003</td>\n",
       "      <td>108.320000</td>\n",
       "      <td>107.961937</td>\n",
       "      <td>4753238</td>\n",
       "    </tr>\n",
       "    <tr>\n",
       "      <th>2</th>\n",
       "      <td>2021-06-16</td>\n",
       "      <td>108.000000</td>\n",
       "      <td>109.199997</td>\n",
       "      <td>106.320000</td>\n",
       "      <td>107.519997</td>\n",
       "      <td>107.164574</td>\n",
       "      <td>8766413</td>\n",
       "    </tr>\n",
       "    <tr>\n",
       "      <th>3</th>\n",
       "      <td>2021-06-17</td>\n",
       "      <td>107.279999</td>\n",
       "      <td>108.080002</td>\n",
       "      <td>103.279999</td>\n",
       "      <td>104.000000</td>\n",
       "      <td>103.656212</td>\n",
       "      <td>9626675</td>\n",
       "    </tr>\n",
       "    <tr>\n",
       "      <th>4</th>\n",
       "      <td>2021-06-18</td>\n",
       "      <td>102.720001</td>\n",
       "      <td>104.160004</td>\n",
       "      <td>102.000000</td>\n",
       "      <td>102.239998</td>\n",
       "      <td>101.902031</td>\n",
       "      <td>10258088</td>\n",
       "    </tr>\n",
       "    <tr>\n",
       "      <th>5</th>\n",
       "      <td>2021-06-21</td>\n",
       "      <td>103.120003</td>\n",
       "      <td>105.519997</td>\n",
       "      <td>102.879997</td>\n",
       "      <td>105.519997</td>\n",
       "      <td>105.171181</td>\n",
       "      <td>6744263</td>\n",
       "    </tr>\n",
       "    <tr>\n",
       "      <th>6</th>\n",
       "      <td>2021-06-22</td>\n",
       "      <td>104.959999</td>\n",
       "      <td>105.599998</td>\n",
       "      <td>103.519997</td>\n",
       "      <td>104.239998</td>\n",
       "      <td>103.895416</td>\n",
       "      <td>4783575</td>\n",
       "    </tr>\n",
       "    <tr>\n",
       "      <th>7</th>\n",
       "      <td>2021-06-23</td>\n",
       "      <td>104.160004</td>\n",
       "      <td>105.519997</td>\n",
       "      <td>103.519997</td>\n",
       "      <td>103.599998</td>\n",
       "      <td>103.257530</td>\n",
       "      <td>5459688</td>\n",
       "    </tr>\n",
       "    <tr>\n",
       "      <th>8</th>\n",
       "      <td>2021-06-24</td>\n",
       "      <td>104.480003</td>\n",
       "      <td>105.599998</td>\n",
       "      <td>103.360001</td>\n",
       "      <td>105.199997</td>\n",
       "      <td>104.852249</td>\n",
       "      <td>5977550</td>\n",
       "    </tr>\n",
       "    <tr>\n",
       "      <th>9</th>\n",
       "      <td>2021-06-25</td>\n",
       "      <td>105.279999</td>\n",
       "      <td>105.919998</td>\n",
       "      <td>104.800003</td>\n",
       "      <td>105.279999</td>\n",
       "      <td>105.011841</td>\n",
       "      <td>4264450</td>\n",
       "    </tr>\n",
       "    <tr>\n",
       "      <th>10</th>\n",
       "      <td>2021-06-28</td>\n",
       "      <td>105.279999</td>\n",
       "      <td>105.360001</td>\n",
       "      <td>102.320000</td>\n",
       "      <td>103.120003</td>\n",
       "      <td>102.857346</td>\n",
       "      <td>7723450</td>\n",
       "    </tr>\n",
       "    <tr>\n",
       "      <th>11</th>\n",
       "      <td>2021-06-29</td>\n",
       "      <td>104.480003</td>\n",
       "      <td>105.839996</td>\n",
       "      <td>103.680000</td>\n",
       "      <td>104.720001</td>\n",
       "      <td>104.453255</td>\n",
       "      <td>8649650</td>\n",
       "    </tr>\n",
       "    <tr>\n",
       "      <th>12</th>\n",
       "      <td>2021-06-30</td>\n",
       "      <td>105.199997</td>\n",
       "      <td>108.239998</td>\n",
       "      <td>104.400002</td>\n",
       "      <td>107.680000</td>\n",
       "      <td>107.405724</td>\n",
       "      <td>8568975</td>\n",
       "    </tr>\n",
       "    <tr>\n",
       "      <th>13</th>\n",
       "      <td>2021-07-01</td>\n",
       "      <td>108.639999</td>\n",
       "      <td>109.040001</td>\n",
       "      <td>106.879997</td>\n",
       "      <td>107.839996</td>\n",
       "      <td>107.565308</td>\n",
       "      <td>5836638</td>\n",
       "    </tr>\n",
       "    <tr>\n",
       "      <th>14</th>\n",
       "      <td>2021-07-02</td>\n",
       "      <td>108.320000</td>\n",
       "      <td>108.320000</td>\n",
       "      <td>106.480003</td>\n",
       "      <td>106.879997</td>\n",
       "      <td>106.607758</td>\n",
       "      <td>4144988</td>\n",
       "    </tr>\n",
       "  </tbody>\n",
       "</table>\n",
       "</div>"
      ],
      "text/plain": [
       "          Date        Open        High         Low       Close   Adj Close  \\\n",
       "0   2021-06-14  110.239998  110.639999  107.279999  107.760002  107.403793   \n",
       "1   2021-06-15  107.599998  108.559998  106.480003  108.320000  107.961937   \n",
       "2   2021-06-16  108.000000  109.199997  106.320000  107.519997  107.164574   \n",
       "3   2021-06-17  107.279999  108.080002  103.279999  104.000000  103.656212   \n",
       "4   2021-06-18  102.720001  104.160004  102.000000  102.239998  101.902031   \n",
       "5   2021-06-21  103.120003  105.519997  102.879997  105.519997  105.171181   \n",
       "6   2021-06-22  104.959999  105.599998  103.519997  104.239998  103.895416   \n",
       "7   2021-06-23  104.160004  105.519997  103.519997  103.599998  103.257530   \n",
       "8   2021-06-24  104.480003  105.599998  103.360001  105.199997  104.852249   \n",
       "9   2021-06-25  105.279999  105.919998  104.800003  105.279999  105.011841   \n",
       "10  2021-06-28  105.279999  105.360001  102.320000  103.120003  102.857346   \n",
       "11  2021-06-29  104.480003  105.839996  103.680000  104.720001  104.453255   \n",
       "12  2021-06-30  105.199997  108.239998  104.400002  107.680000  107.405724   \n",
       "13  2021-07-01  108.639999  109.040001  106.879997  107.839996  107.565308   \n",
       "14  2021-07-02  108.320000  108.320000  106.480003  106.879997  106.607758   \n",
       "\n",
       "      Volume  \n",
       "0    5678225  \n",
       "1    4753238  \n",
       "2    8766413  \n",
       "3    9626675  \n",
       "4   10258088  \n",
       "5    6744263  \n",
       "6    4783575  \n",
       "7    5459688  \n",
       "8    5977550  \n",
       "9    4264450  \n",
       "10   7723450  \n",
       "11   8649650  \n",
       "12   8568975  \n",
       "13   5836638  \n",
       "14   4144988  "
      ]
     },
     "execution_count": 65,
     "metadata": {},
     "output_type": "execute_result"
    }
   ],
   "source": [
    "df.head(15)"
   ]
  },
  {
   "cell_type": "code",
   "execution_count": 51,
   "metadata": {},
   "outputs": [
    {
     "data": {
      "text/plain": [
       "pandas.core.series.Series"
      ]
     },
     "execution_count": 51,
     "metadata": {},
     "output_type": "execute_result"
    }
   ],
   "source": [
    "type(df.Date)"
   ]
  },
  {
   "cell_type": "code",
   "execution_count": 52,
   "metadata": {},
   "outputs": [],
   "source": [
    "train_dates=pd.to_datetime(df['Date'])"
   ]
  },
  {
   "cell_type": "code",
   "execution_count": 53,
   "metadata": {},
   "outputs": [
    {
     "data": {
      "text/plain": [
       "pandas.core.series.Series"
      ]
     },
     "execution_count": 53,
     "metadata": {},
     "output_type": "execute_result"
    }
   ],
   "source": [
    "type(date)"
   ]
  },
  {
   "cell_type": "code",
   "execution_count": 54,
   "metadata": {},
   "outputs": [],
   "source": [
    "cols = list(df)[1:6]"
   ]
  },
  {
   "cell_type": "code",
   "execution_count": 55,
   "metadata": {},
   "outputs": [],
   "source": [
    "df_for_training = df[cols].astype(float)"
   ]
  },
  {
   "cell_type": "code",
   "execution_count": 56,
   "metadata": {},
   "outputs": [
    {
     "data": {
      "text/plain": [
       "['Open', 'High', 'Low', 'Close', 'Adj Close']"
      ]
     },
     "execution_count": 56,
     "metadata": {},
     "output_type": "execute_result"
    }
   ],
   "source": [
    "cols"
   ]
  },
  {
   "cell_type": "code",
   "execution_count": 57,
   "metadata": {},
   "outputs": [],
   "source": [
    "scaler = StandardScaler()"
   ]
  },
  {
   "cell_type": "code",
   "execution_count": 58,
   "metadata": {},
   "outputs": [],
   "source": [
    "scaler = scaler.fit(df_for_training)"
   ]
  },
  {
   "cell_type": "code",
   "execution_count": 59,
   "metadata": {},
   "outputs": [],
   "source": [
    "df_for_training_scaled = scaler.transform(df_for_training)"
   ]
  },
  {
   "cell_type": "code",
   "execution_count": 66,
   "metadata": {},
   "outputs": [
    {
     "data": {
      "text/plain": [
       "array([[ 1.42770409,  1.33661164,  1.25241916,  1.1791925 ,  1.16676744],\n",
       "       [ 1.15017279,  1.11906682,  1.16872624,  1.23807076,  1.2259784 ],\n",
       "       [ 1.1922232 ,  1.18600355,  1.15198726,  1.15395835,  1.14138979],\n",
       "       ...,\n",
       "       [-2.09925575, -2.04788211, -1.96558976, -2.03809487, -2.04165855],\n",
       "       [-2.07823097, -2.17652592, -2.15076095, -2.28832887, -2.29414245],\n",
       "       [-2.48506683, -2.58337627, -2.570274  , -2.66157587, -2.67074538]])"
      ]
     },
     "execution_count": 66,
     "metadata": {},
     "output_type": "execute_result"
    }
   ],
   "source": [
    "df_for_training_scaled"
   ]
  },
  {
   "cell_type": "code",
   "execution_count": 60,
   "metadata": {},
   "outputs": [],
   "source": [
    "trainX=[]\n",
    "trainY=[]\n",
    "n_future = 1\n",
    "n_past = 14\n"
   ]
  },
  {
   "cell_type": "code",
   "execution_count": 61,
   "metadata": {},
   "outputs": [],
   "source": [
    "for i in range(n_past, len(df_for_training_scaled)-n_future+1):\n",
    "    trainX.append(df_for_training_scaled[i-n_past:i, 0:df_for_training.shape[1]])\n",
    "    trainY.append(df_for_training_scaled[i+n_future - 1: i+n_future,0])\n",
    "trainX,trainY = np.array(trainX),np.array(trainY)"
   ]
  },
  {
   "cell_type": "code",
   "execution_count": 62,
   "metadata": {},
   "outputs": [
    {
     "name": "stdout",
     "output_type": "stream",
     "text": [
      "trainX shape == (238, 14, 5).\n",
      "trainY shape == (238, 1).\n"
     ]
    }
   ],
   "source": [
    "print('trainX shape == {}.'.format(trainX.shape))\n",
    "print('trainY shape == {}.'.format(trainY.shape))"
   ]
  },
  {
   "cell_type": "code",
   "execution_count": 63,
   "metadata": {},
   "outputs": [
    {
     "data": {
      "text/plain": [
       "array([[[ 1.42770409,  1.33661164,  1.25241916,  1.1791925 ,\n",
       "          1.16676744],\n",
       "        [ 1.15017279,  1.11906682,  1.16872624,  1.23807076,\n",
       "          1.2259784 ],\n",
       "        [ 1.1922232 ,  1.18600355,  1.15198726,  1.15395835,\n",
       "          1.14138979],\n",
       "        ...,\n",
       "        [ 0.82218178,  0.83458506,  0.87579926,  0.85956644,\n",
       "          0.85375829],\n",
       "        [ 0.89787151,  1.0855984 ,  0.95112347,  1.17078108,\n",
       "          1.16697229],\n",
       "        [ 1.25950341,  1.16926976,  1.21057228,  1.18760308,\n",
       "          1.18390183]],\n",
       "\n",
       "       [[ 1.15017279,  1.11906682,  1.16872624,  1.23807076,\n",
       "          1.2259784 ],\n",
       "        [ 1.1922232 ,  1.18600355,  1.15198726,  1.15395835,\n",
       "          1.14138979],\n",
       "        [ 1.11653274,  1.06886461,  0.83395249,  0.78386545,\n",
       "          0.76920362],\n",
       "        ...,\n",
       "        [ 0.89787151,  1.0855984 ,  0.95112347,  1.17078108,\n",
       "          1.16697229],\n",
       "        [ 1.25950341,  1.16926976,  1.21057228,  1.18760308,\n",
       "          1.18390183],\n",
       "        [ 1.22586336,  1.09396571,  1.16872624,  1.08666867,\n",
       "          1.08231971]],\n",
       "\n",
       "       [[ 1.1922232 ,  1.18600355,  1.15198726,  1.15395835,\n",
       "          1.14138979],\n",
       "        [ 1.11653274,  1.06886461,  0.83395249,  0.78386545,\n",
       "          0.76920362],\n",
       "        [ 0.63716071,  0.6588767 ,  0.70004326,  0.59881864,\n",
       "          0.58311054],\n",
       "        ...,\n",
       "        [ 1.25950341,  1.16926976,  1.21057228,  1.18760308,\n",
       "          1.18390183],\n",
       "        [ 1.22586336,  1.09396571,  1.16872624,  1.08666867,\n",
       "          1.08231971],\n",
       "        [ 1.00720212,  0.90988921,  0.75862838,  0.71657588,\n",
       "          0.70985019]],\n",
       "\n",
       "       ...,\n",
       "\n",
       "       [[-2.20858626, -2.23195862, -2.14343779, -2.24417023,\n",
       "         -2.24958678],\n",
       "        [-2.27691804, -2.22986642, -2.18214627, -2.18739446,\n",
       "         -2.19230053],\n",
       "        [-2.16022864, -2.2403252 , -2.30559394, -2.23891291,\n",
       "         -2.24428219],\n",
       "        ...,\n",
       "        [-2.0939999 , -2.16606715, -2.05451383, -2.05807181,\n",
       "         -2.0618151 ],\n",
       "        [-1.97100244, -2.04683601, -1.9394356 , -2.05491771,\n",
       "         -2.05863265],\n",
       "        [-2.07612793, -2.06147834, -2.00220549, -1.94977759,\n",
       "         -1.9525472 ]],\n",
       "\n",
       "       [[-2.27691804, -2.22986642, -2.18214627, -2.18739446,\n",
       "         -2.19230053],\n",
       "        [-2.16022864, -2.2403252 , -2.30559394, -2.23891291,\n",
       "         -2.24428219],\n",
       "        [-2.16969036, -2.24450875, -2.12356041, -2.21683359,\n",
       "         -2.22200435],\n",
       "        ...,\n",
       "        [-1.97100244, -2.04683601, -1.9394356 , -2.05491771,\n",
       "         -2.05863265],\n",
       "        [-2.07612793, -2.06147834, -2.00220549, -1.94977759,\n",
       "         -1.9525472 ],\n",
       "        [-2.09925575, -2.04788211, -1.96558976, -2.03809487,\n",
       "         -2.04165855]],\n",
       "\n",
       "       [[-2.16022864, -2.2403252 , -2.30559394, -2.23891291,\n",
       "         -2.24428219],\n",
       "        [-2.16969036, -2.24450875, -2.12356041, -2.21683359,\n",
       "         -2.22200435],\n",
       "        [-2.30530161, -2.40452952, -2.43218   , -2.31566551,\n",
       "         -2.32172488],\n",
       "        ...,\n",
       "        [-2.07612793, -2.06147834, -2.00220549, -1.94977759,\n",
       "         -1.9525472 ],\n",
       "        [-2.09925575, -2.04788211, -1.96558976, -2.03809487,\n",
       "         -2.04165855],\n",
       "        [-2.07823097, -2.17652592, -2.15076095, -2.28832887,\n",
       "         -2.29414245]]])"
      ]
     },
     "execution_count": 63,
     "metadata": {},
     "output_type": "execute_result"
    }
   ],
   "source": [
    "trainX"
   ]
  },
  {
   "cell_type": "code",
   "execution_count": 64,
   "metadata": {},
   "outputs": [
    {
     "data": {
      "text/plain": [
       "array([[ 1.22586336e+00],\n",
       "       [ 1.00720212e+00],\n",
       "       [ 6.70800864e-01],\n",
       "       [ 5.44649747e-01],\n",
       "       [ 7.80131481e-01],\n",
       "       [ 8.22181783e-01],\n",
       "       [ 8.47411691e-01],\n",
       "       [ 6.70800864e-01],\n",
       "       [ 5.11009695e-01],\n",
       "       [ 6.03520654e-01],\n",
       "       [ 9.05077262e-02],\n",
       "       [-6.08724570e-02],\n",
       "       [ 5.95110404e-01],\n",
       "       [ 8.13771638e-01],\n",
       "       [ 6.03520654e-01],\n",
       "       [ 4.85779787e-01],\n",
       "       [ 1.04925243e+00],\n",
       "       [ 8.97871506e-01],\n",
       "       [ 9.31511664e-01],\n",
       "       [ 9.06281756e-01],\n",
       "       [ 8.22181783e-01],\n",
       "       [ 3.72244045e-01],\n",
       "       [ 5.41496193e-01],\n",
       "       [ 6.66595739e-01],\n",
       "       [ 7.04441021e-01],\n",
       "       [ 7.25465804e-01],\n",
       "       [ 7.51747177e-01],\n",
       "       [ 1.00404846e+00],\n",
       "       [ 1.00194627e+00],\n",
       "       [ 1.03453496e+00],\n",
       "       [ 7.95900410e-01],\n",
       "       [ 6.18238118e-01],\n",
       "       [ 4.64755004e-01],\n",
       "       [ 3.51219262e-01],\n",
       "       [ 3.08117390e-01],\n",
       "       [ 4.14294347e-01],\n",
       "       [ 4.86831252e-01],\n",
       "       [ 7.04441021e-01],\n",
       "       [ 8.20078852e-01],\n",
       "       [ 7.61208892e-01],\n",
       "       [ 1.01666384e+00],\n",
       "       [ 8.70539404e-01],\n",
       "       [ 9.14692006e-01],\n",
       "       [ 7.71721231e-01],\n",
       "       [ 9.81972216e-01],\n",
       "       [ 8.24283977e-01],\n",
       "       [ 6.61339149e-01],\n",
       "       [ 5.99315529e-01],\n",
       "       [ 6.97082237e-01],\n",
       "       [ 6.29802027e-01],\n",
       "       [ 8.28489102e-01],\n",
       "       [ 4.34268506e-01],\n",
       "       [ 6.02469084e-01],\n",
       "       [ 4.72113789e-01],\n",
       "       [ 1.93531024e-01],\n",
       "       [ 3.40706923e-01],\n",
       "       [ 1.06276655e-01],\n",
       "       [ 3.01810176e-01],\n",
       "       [ 6.30853492e-01],\n",
       "       [ 8.29540567e-01],\n",
       "       [ 9.07333221e-01],\n",
       "       [ 9.81972216e-01],\n",
       "       [ 1.01981750e+00],\n",
       "       [ 7.90643820e-01],\n",
       "       [ 9.18897130e-01],\n",
       "       [ 8.83154043e-01],\n",
       "       [ 7.38081074e-01],\n",
       "       [ 8.60026224e-01],\n",
       "       [ 9.15743471e-01],\n",
       "       [ 8.60026224e-01],\n",
       "       [ 7.25465804e-01],\n",
       "       [ 5.82495030e-01],\n",
       "       [ 6.81313203e-01],\n",
       "       [ 7.34927519e-01],\n",
       "       [ 7.38081074e-01],\n",
       "       [ 8.32694227e-01],\n",
       "       [ 8.50565350e-01],\n",
       "       [ 9.56742308e-01],\n",
       "       [ 6.71852329e-01],\n",
       "       [ 7.33875949e-01],\n",
       "       [ 9.56742308e-01],\n",
       "       [ 1.17960783e+00],\n",
       "       [ 7.07594576e-01],\n",
       "       [ 8.71590133e-01],\n",
       "       [ 9.56742308e-01],\n",
       "       [ 1.01771446e+00],\n",
       "       [ 9.98792715e-01],\n",
       "       [ 9.68306217e-01],\n",
       "       [ 1.07973892e+00],\n",
       "       [ 1.33939910e+00],\n",
       "       [ 1.89971808e+00],\n",
       "       [ 1.66528791e+00],\n",
       "       [ 1.25004254e+00],\n",
       "       [ 1.12914811e+00],\n",
       "       [ 1.19537686e+00],\n",
       "       [ 9.97741250e-01],\n",
       "       [ 7.40183268e-01],\n",
       "       [ 5.01548716e-01],\n",
       "       [ 3.30194479e-01],\n",
       "       [ 4.00628349e-01],\n",
       "       [ 5.38342533e-01],\n",
       "       [ 5.46752783e-01],\n",
       "       [ 1.00538767e-04],\n",
       "       [ 2.74477338e-01],\n",
       "       [-2.00249670e-03],\n",
       "       [-1.14633705e-02],\n",
       "       [-2.58508908e-01],\n",
       "       [-1.60742200e-01],\n",
       "       [-2.95302725e-01],\n",
       "       [-6.20762152e-03],\n",
       "       [ 9.36621217e-02],\n",
       "       [ 1.16789099e-01],\n",
       "       [ 1.50429152e-01],\n",
       "       [-7.24363662e-02],\n",
       "       [-4.10940556e-01],\n",
       "       [-4.66656962e-01],\n",
       "       [-4.35119735e-01],\n",
       "       [-4.42478519e-01],\n",
       "       [-7.00035660e-01],\n",
       "       [-6.24345200e-01],\n",
       "       [-3.93069433e-01],\n",
       "       [-3.53121220e-01],\n",
       "       [-3.18430439e-01],\n",
       "       [-2.34329729e-01],\n",
       "       [-1.74408199e-01],\n",
       "       [-2.10150446e-01],\n",
       "       [-2.26970945e-01],\n",
       "       [-1.51280485e-01],\n",
       "       [ 2.22966057e-01],\n",
       "       [ 3.22835695e-01],\n",
       "       [ 3.98525418e-01],\n",
       "       [ 3.30194479e-01],\n",
       "       [ 5.32035214e-01],\n",
       "       [ 3.81705760e-01],\n",
       "       [ 5.01548716e-01],\n",
       "       [ 5.91956745e-01],\n",
       "       [ 5.25728000e-01],\n",
       "       [ 6.20340312e-01],\n",
       "       [ 6.34007047e-01],\n",
       "       [ 3.75398441e-01],\n",
       "       [ 1.09430315e-01],\n",
       "       [-2.17510071e-01],\n",
       "       [-5.82294793e-01],\n",
       "       [-5.41295956e-01],\n",
       "       [-7.00035660e-01],\n",
       "       [-7.73623189e-01],\n",
       "       [-5.30783512e-01],\n",
       "       [-1.74408199e-01],\n",
       "       [ 1.06276655e-01],\n",
       "       [ 5.16118197e-02],\n",
       "       [ 1.09430315e-01],\n",
       "       [ 2.84990518e-01],\n",
       "       [ 3.49117068e-01],\n",
       "       [ 3.77500635e-01],\n",
       "       [ 1.81967115e-01],\n",
       "       [ 2.48195965e-01],\n",
       "       [ 5.35628775e-03],\n",
       "       [ 1.39916813e-01],\n",
       "       [ 3.60680136e-01],\n",
       "       [ 3.88012974e-01],\n",
       "       [ 1.85120774e-01],\n",
       "       [-4.22504466e-01],\n",
       "       [-3.01609939e-01],\n",
       "       [-6.38012040e-01],\n",
       "       [-3.41557311e-01],\n",
       "       [-1.99638107e-01],\n",
       "       [-1.78613324e-01],\n",
       "       [-3.36301562e-01],\n",
       "       [-1.80715518e-01],\n",
       "       [-6.76907946e-01],\n",
       "       [-8.39852775e-01],\n",
       "       [-1.01225848e+00],\n",
       "       [-5.46552546e-01],\n",
       "       [-9.34465823e-01],\n",
       "       [-4.05683966e-01],\n",
       "       [-4.43529249e-01],\n",
       "       [-3.58377810e-01],\n",
       "       [-3.35250097e-01],\n",
       "       [-2.58508908e-01],\n",
       "       [-1.12384579e-01],\n",
       "       [-2.32227535e-01],\n",
       "       [-1.49178291e-01],\n",
       "       [-2.18560695e-01],\n",
       "       [-2.38534854e-01],\n",
       "       [-2.33278264e-01],\n",
       "       [-3.21584098e-01],\n",
       "       [-3.82556989e-01],\n",
       "       [-3.19481063e-01],\n",
       "       [-3.05815064e-01],\n",
       "       [-4.79272336e-01],\n",
       "       [-4.70862087e-01],\n",
       "       [-5.25526922e-01],\n",
       "       [-7.66264405e-01],\n",
       "       [-7.18958248e-01],\n",
       "       [-7.53649871e-01],\n",
       "       [-7.48393281e-01],\n",
       "       [-7.00035660e-01],\n",
       "       [-6.83215161e-01],\n",
       "       [-5.90705043e-01],\n",
       "       [-5.98063827e-01],\n",
       "       [-6.15934951e-01],\n",
       "       [-4.37221929e-01],\n",
       "       [-3.89915773e-01],\n",
       "       [-6.06474077e-01],\n",
       "       [-8.57723898e-01],\n",
       "       [-1.23091971e+00],\n",
       "       [-1.75129058e+00],\n",
       "       [-1.92054273e+00],\n",
       "       [-2.01515578e+00],\n",
       "       [-2.37258266e+00],\n",
       "       [-2.08243609e+00],\n",
       "       [-1.94156751e+00],\n",
       "       [-1.81646870e+00],\n",
       "       [-1.92684994e+00],\n",
       "       [-2.08979477e+00],\n",
       "       [-2.38204354e+00],\n",
       "       [-2.40727344e+00],\n",
       "       [-2.61962736e+00],\n",
       "       [-2.34104470e+00],\n",
       "       [-2.34945484e+00],\n",
       "       [-2.14971630e+00],\n",
       "       [-2.20858626e+00],\n",
       "       [-2.27691804e+00],\n",
       "       [-2.16022864e+00],\n",
       "       [-2.16969036e+00],\n",
       "       [-2.30530161e+00],\n",
       "       [-2.43775994e+00],\n",
       "       [-2.25379033e+00],\n",
       "       [-2.03618056e+00],\n",
       "       [-1.96679816e+00],\n",
       "       [-1.84800582e+00],\n",
       "       [-1.95943937e+00],\n",
       "       [-2.09399990e+00],\n",
       "       [-1.97100244e+00],\n",
       "       [-2.07612793e+00],\n",
       "       [-2.09925575e+00],\n",
       "       [-2.07823097e+00],\n",
       "       [-2.48506683e+00]])"
      ]
     },
     "execution_count": 64,
     "metadata": {},
     "output_type": "execute_result"
    }
   ],
   "source": [
    "trainY"
   ]
  },
  {
   "cell_type": "code",
   "execution_count": 26,
   "metadata": {},
   "outputs": [],
   "source": [
    "model = Sequential()\n",
    "model.add(LSTM(64, activation = 'relu', input_shape = (trainX.shape[1], trainX.shape[2]),return_sequences = True))\n",
    "model.add(LSTM(32, activation = 'relu', return_sequences = False))\n",
    "model.add(Dropout(0.2))\n",
    "model.add(Dense(trainY.shape[1]))"
   ]
  },
  {
   "cell_type": "code",
   "execution_count": 27,
   "metadata": {},
   "outputs": [
    {
     "name": "stdout",
     "output_type": "stream",
     "text": [
      "Model: \"sequential_1\"\n",
      "_________________________________________________________________\n",
      " Layer (type)                Output Shape              Param #   \n",
      "=================================================================\n",
      " lstm_2 (LSTM)               (None, 14, 64)            17920     \n",
      "                                                                 \n",
      " lstm_3 (LSTM)               (None, 32)                12416     \n",
      "                                                                 \n",
      " dropout (Dropout)           (None, 32)                0         \n",
      "                                                                 \n",
      " dense (Dense)               (None, 1)                 33        \n",
      "                                                                 \n",
      "=================================================================\n",
      "Total params: 30,369\n",
      "Trainable params: 30,369\n",
      "Non-trainable params: 0\n",
      "_________________________________________________________________\n"
     ]
    }
   ],
   "source": [
    "model.compile(optimizer='adam', loss='mse')\n",
    "model.summary()"
   ]
  },
  {
   "cell_type": "code",
   "execution_count": 28,
   "metadata": {},
   "outputs": [
    {
     "name": "stdout",
     "output_type": "stream",
     "text": [
      "Epoch 1/5\n",
      "14/14 [==============================] - 4s 61ms/step - loss: 0.3722 - val_loss: 1.3017\n",
      "Epoch 2/5\n",
      "14/14 [==============================] - 0s 22ms/step - loss: 0.1777 - val_loss: 101.0898\n",
      "Epoch 3/5\n",
      "14/14 [==============================] - 0s 21ms/step - loss: 0.1856 - val_loss: 8.0025\n",
      "Epoch 4/5\n",
      "14/14 [==============================] - 0s 21ms/step - loss: 0.1385 - val_loss: 6.7308\n",
      "Epoch 5/5\n",
      "14/14 [==============================] - 0s 19ms/step - loss: 0.1235 - val_loss: 8.0747\n"
     ]
    }
   ],
   "source": [
    "history = model.fit(trainX, trainY, epochs=5, batch_size=16, validation_split=0.1, verbose=1)"
   ]
  },
  {
   "cell_type": "code",
   "execution_count": 30,
   "metadata": {},
   "outputs": [
    {
     "data": {
      "text/plain": [
       "<matplotlib.legend.Legend at 0x13c62ce0970>"
      ]
     },
     "execution_count": 30,
     "metadata": {},
     "output_type": "execute_result"
    },
    {
     "data": {
      "image/png": "[encoded data removed]",
      "text/plain": [
       "<Figure size 432x288 with 1 Axes>"
      ]
     },
     "metadata": {
      "needs_background": "light"
     },
     "output_type": "display_data"
    }
   ],
   "source": [
    "plt.plot(history.history['loss'], label='Training loss')\n",
    "plt.plot(history.history['val_loss'], label='Validation loss')\n",
    "plt.legend()"
   ]
  },
  {
   "cell_type": "code",
   "execution_count": 31,
   "metadata": {},
   "outputs": [],
   "source": [
    "from pandas.tseries.holiday import USFederalHolidayCalendar\n",
    "from pandas.tseries.offsets import CustomBusinessDay"
   ]
  },
  {
   "cell_type": "code",
   "execution_count": 33,
   "metadata": {},
   "outputs": [],
   "source": [
    "us_bd = CustomBusinessDay(calendar = USFederalHolidayCalendar())"
   ]
  },
  {
   "cell_type": "code",
   "execution_count": 37,
   "metadata": {},
   "outputs": [
    {
     "name": "stdout",
     "output_type": "stream",
     "text": [
      "[Timestamp('2022-05-19 00:00:00', freq='C'), Timestamp('2022-05-20 00:00:00', freq='C'), Timestamp('2022-05-23 00:00:00', freq='C'), Timestamp('2022-05-24 00:00:00', freq='C'), Timestamp('2022-05-25 00:00:00', freq='C'), Timestamp('2022-05-26 00:00:00', freq='C'), Timestamp('2022-05-27 00:00:00', freq='C'), Timestamp('2022-05-31 00:00:00', freq='C'), Timestamp('2022-06-01 00:00:00', freq='C'), Timestamp('2022-06-02 00:00:00', freq='C'), Timestamp('2022-06-03 00:00:00', freq='C'), Timestamp('2022-06-06 00:00:00', freq='C'), Timestamp('2022-06-07 00:00:00', freq='C'), Timestamp('2022-06-08 00:00:00', freq='C'), Timestamp('2022-06-09 00:00:00', freq='C')]\n"
     ]
    }
   ],
   "source": [
    "n_past = 16\n",
    "n_days_for_prediction = 15\n",
    "predict_period_dates = pd.date_range(list(train_dates)[-n_past], periods = n_days_for_prediction, freq = us_bd).tolist()\n",
    "print(predict_period_dates)"
   ]
  },
  {
   "cell_type": "code",
   "execution_count": 38,
   "metadata": {},
   "outputs": [],
   "source": [
    " prediction = model.predict(trainX[-n_days_for_prediction:])"
   ]
  },
  {
   "cell_type": "code",
   "execution_count": 39,
   "metadata": {},
   "outputs": [],
   "source": [
    "prediction_copies = np.repeat(prediction, df_for_training.shape[1], axis=-1)\n",
    "y_pred_future = scaler.inverse_transform(prediction_copies)[:,0]"
   ]
  },
  {
   "cell_type": "code",
   "execution_count": 41,
   "metadata": {},
   "outputs": [],
   "source": [
    "forecast_dates = []\n",
    "for time_i in predict_period_dates:\n",
    "    forecast_dates.append(time_i.date())"
   ]
  },
  {
   "cell_type": "code",
   "execution_count": 45,
   "metadata": {},
   "outputs": [],
   "source": [
    "df_forecast = pd.DataFrame({'Date':np.array(forecast_dates), 'Open':y_pred_future})\n",
    "df_forecast['Date']=pd.to_datetime(df_forecast['Date'])"
   ]
  },
  {
   "cell_type": "code",
   "execution_count": 46,
   "metadata": {},
   "outputs": [
    {
     "name": "stderr",
     "output_type": "stream",
     "text": [
      "<ipython-input-46-71f3fad86873>:2: SettingWithCopyWarning: \n",
      "A value is trying to be set on a copy of a slice from a DataFrame.\n",
      "Try using .loc[row_indexer,col_indexer] = value instead\n",
      "\n",
      "See the caveats in the documentation: https://pandas.pydata.org/pandas-docs/stable/user_guide/indexing.html#returning-a-view-versus-a-copy\n",
      "  original['Date']=pd.to_datetime(original['Date'])\n"
     ]
    }
   ],
   "source": [
    "original = df[['Date','Open']]\n",
    "original['Date']=pd.to_datetime(original['Date'])\n",
    "original = original.loc[original['Date']>= '2020-5-1']"
   ]
  },
  {
   "cell_type": "code",
   "execution_count": 47,
   "metadata": {},
   "outputs": [
    {
     "name": "stderr",
     "output_type": "stream",
     "text": [
      "A:\\anaconda\\lib\\site-packages\\seaborn\\_decorators.py:36: FutureWarning: Pass the following variables as keyword args: x, y. From version 0.12, the only valid positional argument will be `data`, and passing other arguments without an explicit keyword will result in an error or misinterpretation.\n",
      "  warnings.warn(\n",
      "A:\\anaconda\\lib\\site-packages\\seaborn\\_decorators.py:36: FutureWarning: Pass the following variables as keyword args: x, y. From version 0.12, the only valid positional argument will be `data`, and passing other arguments without an explicit keyword will result in an error or misinterpretation.\n",
      "  warnings.warn(\n"
     ]
    },
    {
     "data": {
      "text/plain": [
       "<AxesSubplot:xlabel='Date', ylabel='Open'>"
      ]
     },
     "execution_count": 47,
     "metadata": {},
     "output_type": "execute_result"
    },
    {
     "data": {
      "image/png": "[encoded data removed]",
      "text/plain": [
       "<Figure size 432x288 with 1 Axes>"
      ]
     },
     "metadata": {
      "needs_background": "light"
     },
     "output_type": "display_data"
    }
   ],
   "source": [
    "sns.lineplot(original['Date'], original['Open'])\n",
    "sns.lineplot(df_forecast['Date'], df_forecast['Open'])"
   ]
  },
  {
   "cell_type": "code",
   "execution_count": null,
   "metadata": {},
   "outputs": [],
   "source": []
  }
 ],
 "metadata": {
  "kernelspec": {
   "display_name": "Python 3",
   "language": "python",
   "name": "python3"
  },
  "language_info": {
   "codemirror_mode": {
    "name": "ipython",
    "version": 3
   },
   "file_extension": ".py",
   "mimetype": "text/x-python",
   "name": "python",
   "nbconvert_exporter": "python",
   "pygments_lexer": "ipython3",
   "version": "3.8.3"
  }
 },
 "nbformat": 4,
 "nbformat_minor": 4
}
